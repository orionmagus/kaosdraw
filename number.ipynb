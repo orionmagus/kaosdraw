{
 "cells": [
  {
   "cell_type": "code",
   "execution_count": 229,
   "metadata": {},
   "outputs": [],
   "source": [
    "import numpy as np\n",
    "import numpy.lib.mixins\n",
    "from numbers import Number\n",
    "from math import *\n",
    "\n",
    "def conv(n, N=52):\n",
    "    n = int(n) if isinstance(n, str) else n\n",
    "    n = math.ceil(n) if isinstance(n, float) else n\n",
    "    n = n % N    \n",
    "    return N - (n-1)\n",
    "\n",
    "def iconv(n, N=52):\n",
    "    n = n % N\n",
    "    return (N - n) + 1\n",
    "\n",
    "def sconv(n, N=52):\n",
    "    return str(iconv(n, N))\n",
    "\n",
    "HANDLED_FUNCTIONS = {}\n",
    "\n",
    "def implements(np_function):\n",
    "   \"Register an __array_function__ implementation for DiagonalArray objects.\"\n",
    "   def decorator(func):\n",
    "       HANDLED_FUNCTIONS[np_function] = func\n",
    "       return func\n",
    "   return decorator\n",
    "\n",
    "@implements(np.sum)\n",
    "def sum(arr):\n",
    "    \"Implementation of np.sum for DiagonalArray objects\"\n",
    "    return arr._i * arr._N\n",
    "\n",
    "@implements(np.mean)\n",
    "def mean(arr):\n",
    "    \"Implementation of np.mean for DiagonalArray objects\"\n",
    "    return arr._i / arr._N\n",
    "\n",
    "def binfmt(N=52):\n",
    "    return str('{:0>'+str(N)+'s}').format\n",
    "\n",
    "def arr2str(arr):\n",
    "    return ''.join(np.array(arr).astype(str))\n",
    "\n",
    "def align_bin(val, N=52):\n",
    "    \n",
    "    return binfmt(N)(str(val))\n",
    "\n",
    "def bin2intarr(v):\n",
    "    return np.array(list(v[2:] if str(v).startswith('0b') else v)).astype(int) \n",
    "\n",
    "def nfill(arr, N=52, val=0):\n",
    "    s = [val]*(N-len(arr))\n",
    "    return np.concatenate([s, arr])\n",
    "\n",
    "def binarr_to_values(val, N=52):\n",
    "    val = nfill(val,N,0)#bin2intarr(align_bin(arr2str(val), N))\n",
    "    return np.nonzero(np.where(val>0, pool(N), 0))\n",
    "\n",
    "def pool(N=52):\n",
    "    return N - np.arange(N) \n",
    "\n",
    "def nmax(N=52):\n",
    "    return int(str('{:0<'+str(N)+'s}').format('111111'), 2)  \n",
    "\n",
    "class ResultsArray(numpy.lib.mixins.NDArrayOperatorsMixin):\n",
    "\n",
    "    def __init__(self, N=52, value=(1,2,)):\n",
    "        self._N = pool(N)\n",
    "        if len(value) == N:\n",
    "            if all(np.isin(np.array(value), [0,1])):\n",
    "                value = binarr_to_values(value, N)\n",
    "        self._i = value #[conv(n, N) for n in value]\n",
    "        self._m = nmax(N)  \n",
    "\n",
    "    @property\n",
    "    def max_val(self):\n",
    "        return self._m\n",
    "\n",
    "    def __repr__(self):\n",
    "        return f\"{self.__class__.__name__}(N={len(self._N)}, value={self._i})\"\n",
    "    \n",
    "    def __str__(self):\n",
    "        return str(self._i)\n",
    "         \n",
    "    def __int__(self):\n",
    "        return int(''.join(np.array(self).astype(str)), 2)\n",
    "\n",
    "    def __float__(self):\n",
    "        return (int(self) * 1.0) / self.max_val\n",
    "    \n",
    "    @classmethod\n",
    "    def from_array(cls, val, N=52):\n",
    "        return cls(N=N, value=binarr_to_values(val, N))\n",
    "    \n",
    "    @classmethod\n",
    "    def from_float(cls, f, N=52):\n",
    "        mx = int(''.join(np.where(np.arange(N) < 6, 1, 0).astype(str)), 2) * 1.0\n",
    "        return cls.from_int(int(round(f * mx)), N)\n",
    "    \n",
    "    @classmethod\n",
    "    def from_int(cls, val, N=52):\n",
    "        return cls(N=N, value=[N - (i + 1) for i, n in enumerate(list(bin(val)[2:])) if n == '1'])\n",
    "    \n",
    "    def __array__(self):\n",
    "        return np.where(np.isin(self._N, self._i), 1, 0) \n",
    "\n",
    "    def __array_ufunc__(self, ufunc, method, *inputs, **kwargs):\n",
    "        if method == '__sub__':\n",
    "            return self.__class__.from_int(int(self) & int(inputs[0]))\n",
    "        if method == '__call__':\n",
    "            N = None\n",
    "            scalars = []\n",
    "            for input in inputs:\n",
    "                # In this case we accept only scalar numbers or ResultsArray.\n",
    "                if isinstance(input, Number):\n",
    "                    scalars.append(input)\n",
    "                elif isinstance(input, self.__class__):\n",
    "                    scalars.append(np.array(input))\n",
    "                    N = len(self._N)                    \n",
    "                else:\n",
    "                    return NotImplemented\n",
    "            return self.__class__(N, binarr_to_values(ufunc(*scalars, **kwargs)))\n",
    "        else:\n",
    "            return NotImplemented\n",
    "    \n",
    "#     def __array_function__(self, func, types, args, kwargs):\n",
    "#        if func not in HANDLED_FUNCTIONS:\n",
    "#            return NotImplemented\n",
    "#        # Note: this allows subclasses that don't override\n",
    "#        # __array_function__ to handle ResultsArray objects.\n",
    "#        if not all(issubclass(t, self.__class__) for t in types):\n",
    "#            return NotImplemented\n",
    "#        return HANDLED_FUNCTIONS[func](*args, **kwargs)\n",
    "\n",
    "def rarray(v, N=52):\n",
    "    return ResultsArray(N=N, value=v)\n"
   ]
  },
  {
   "cell_type": "code",
   "execution_count": 230,
   "metadata": {},
   "outputs": [],
   "source": [
    "a = rarray([3, 41, 37, 28, 51, 42])"
   ]
  },
  {
   "cell_type": "code",
   "execution_count": 231,
   "metadata": {},
   "outputs": [
    {
     "data": {
      "text/plain": [
       "ResultsArray(N=52, value=[3, 41, 37, 28, 51, 42])"
      ]
     },
     "execution_count": 231,
     "metadata": {},
     "output_type": "execute_result"
    }
   ],
   "source": [
    "a"
   ]
  },
  {
   "cell_type": "code",
   "execution_count": 232,
   "metadata": {},
   "outputs": [],
   "source": [
    "fa = float(a)"
   ]
  },
  {
   "cell_type": "code",
   "execution_count": 233,
   "metadata": {},
   "outputs": [
    {
     "data": {
      "text/plain": [
       "'[3, 41, 37, 28, 51, 42]'"
      ]
     },
     "execution_count": 233,
     "metadata": {},
     "output_type": "execute_result"
    }
   ],
   "source": [
    "str(a)"
   ]
  },
  {
   "cell_type": "code",
   "execution_count": 234,
   "metadata": {},
   "outputs": [],
   "source": [
    "nz = np.array([0]*52)\n",
    "ndn = np.array([1,0,0,0,1,1,1,0,0,0,1])\n"
   ]
  },
  {
   "cell_type": "code",
   "execution_count": 235,
   "metadata": {},
   "outputs": [
    {
     "data": {
      "text/plain": [
       "'[51, 42, 41, 37, 28, 3]'"
      ]
     },
     "execution_count": 235,
     "metadata": {},
     "output_type": "execute_result"
    }
   ],
   "source": [
    "s = ResultsArray.from_float(fa)\n",
    "str(s)"
   ]
  },
  {
   "cell_type": "code",
   "execution_count": 237,
   "metadata": {},
   "outputs": [],
   "source": [
    "v = ResultsArray(value=[5, 40, 15, 10, 42, 51])\n",
    "dif = v-a"
   ]
  },
  {
   "cell_type": "code",
   "execution_count": 127,
   "metadata": {},
   "outputs": [
    {
     "data": {
      "text/plain": [
       "array([1, 1, 1, 1, 1, 1, 1, 1, 1, 1, 1, 1, 0, 0, 1, 1, 0, 1, 1, 1, 1, 1,\n",
       "       1, 1, 1, 0, 1, 1, 1, 1, 1, 1, 1, 1, 1, 1, 1, 1, 0, 1, 1, 1, 1, 0,\n",
       "       1, 1, 1, 1, 0, 1, 0, 1])"
      ]
     },
     "execution_count": 127,
     "metadata": {},
     "output_type": "execute_result"
    }
   ],
   "source": [
    "nv = 1-np.array(v)\n",
    "na = np.array(a)\n",
    "nnd = np.abs(nv - na)\n",
    "pool = 52 - np.arange(52)\n",
    "nnd\n"
   ]
  },
  {
   "cell_type": "code",
   "execution_count": 242,
   "metadata": {},
   "outputs": [
    {
     "data": {
      "text/plain": [
       "2"
      ]
     },
     "execution_count": 242,
     "metadata": {},
     "output_type": "execute_result"
    }
   ],
   "source": [
    "np.dot(np.array(a), np.array(dif).T)"
   ]
  },
  {
   "cell_type": "code",
   "execution_count": 116,
   "metadata": {},
   "outputs": [],
   "source": [
    "diff = ResultsArray.from_float(float(v) - float(a))"
   ]
  },
  {
   "cell_type": "code",
   "execution_count": 117,
   "metadata": {},
   "outputs": [
    {
     "data": {
      "text/plain": [
       "ResultsArray(N=52, value=[3, 6, 16, 17, 18, 19, 20, 21, 22, 23, 24, 25, 26, 27, 29, 30, 31, 32, 34, 35, 36, 37, 38, 40])"
      ]
     },
     "execution_count": 117,
     "metadata": {},
     "output_type": "execute_result"
    }
   ],
   "source": [
    "print(bin(int(v)) )"
   ]
  },
  {
   "cell_type": "code",
   "execution_count": 118,
   "metadata": {},
   "outputs": [
    {
     "data": {
      "text/plain": [
       "-309304745722"
      ]
     },
     "execution_count": 118,
     "metadata": {},
     "output_type": "execute_result"
    }
   ],
   "source": [
    "int(v) - int(a)"
   ]
  },
  {
   "cell_type": "code",
   "execution_count": 119,
   "metadata": {},
   "outputs": [
    {
     "data": {
      "text/plain": [
       "array([1, 1, 0, 1, 1, 1, 1, 1, 1, 1, 1, 0, 0, 1, 1, 1, 0, 1, 1, 1, 1, 1,\n",
       "       1, 1, 1, 0, 1, 1, 1, 1, 1, 1, 1, 1, 1, 1, 1, 1, 1, 1, 1, 1, 1, 1,\n",
       "       1, 1, 1, 1, 1, 1, 0, 1])"
      ]
     },
     "execution_count": 119,
     "metadata": {},
     "output_type": "execute_result"
    }
   ],
   "source": [
    "1-na"
   ]
  },
  {
   "cell_type": "code",
   "execution_count": null,
   "metadata": {},
   "outputs": [],
   "source": []
  }
 ],
 "metadata": {
  "kernelspec": {
   "display_name": "Python 3",
   "language": "python",
   "name": "python3"
  },
  "language_info": {
   "codemirror_mode": {
    "name": "ipython",
    "version": 3
   },
   "file_extension": ".py",
   "mimetype": "text/x-python",
   "name": "python",
   "nbconvert_exporter": "python",
   "pygments_lexer": "ipython3",
   "version": "3.6.9"
  }
 },
 "nbformat": 4,
 "nbformat_minor": 4
}
