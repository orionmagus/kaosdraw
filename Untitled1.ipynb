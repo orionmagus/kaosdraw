{
 "cells": [
  {
   "cell_type": "code",
   "execution_count": 47,
   "metadata": {},
   "outputs": [],
   "source": [
    "import numpy as np\n",
    "import numpy.lib.mixins\n",
    "from numbers import Number\n",
    "# import math\n",
    "\n",
    "def conv(n, N=52):\n",
    "    n = int(n) if isinstance(n, str) else n\n",
    "    n = math.ceil(n) if isinstance(n, float) else n\n",
    "    return N - (n-1)\n",
    "\n",
    "def iconv(n, N=52):\n",
    "    return (N - n) + 1\n",
    "\n",
    "def sconv(n, N=52):\n",
    "    return str(iconv(n, N))\n",
    "\n",
    "HANDLED_FUNCTIONS = {}\n",
    "class ResultsArray(numpy.lib.mixins.NDArrayOperatorsMixin):\n",
    "\n",
    "    def __init__(self, value=(1,2,), N=52):\n",
    "        self._N = np.arange(N)\n",
    "        self._i = [conv(n, N) for n in value]\n",
    "        self._m = int(''.join(np.where(self._N < 6, 1, 0).astype(str)), 2)  \n",
    "\n",
    "    @property\n",
    "    def max_val(self):\n",
    "        return self._m\n",
    "\n",
    "    def __repr__(self):\n",
    "        return f\"{self.__class__.__name__}(N={len(self._N)}, value={self._i})\"\n",
    "    \n",
    "    def __str__(self):\n",
    "        ln = len(self._N)\n",
    "        return '{}'.format([iconv(n) for n in self._i])\n",
    "         \n",
    "    def __int__(self):\n",
    "        return int(''.join(np.array(self).astype(str)), 2)\n",
    "\n",
    "    def __float__(self):\n",
    "        return (int(self) * 1.0) / self.max_val\n",
    "    @classmethod\n",
    "    def from_float(cls, f, N=52):\n",
    "        mx = int(''.join(np.where(np.arange(N) < 6, 1, 0).astype(str)), 2) * 1.0\n",
    "        return cls.from_int(int(round(f * mx)), N)\n",
    "    @classmethod\n",
    "    def from_int(cls, val, N=52):\n",
    "        return cls([N - (i + 1) for i, n in enumerate(list(bin(val)[2:])) if n == '1'], N=N)\n",
    "    \n",
    "    def __array__(self):\n",
    "        return np.where(np.isin(self._N, self._i), 1, 0) \n",
    "\n",
    "    def __array_ufunc__(self, ufunc, method, *inputs, **kwargs):\n",
    "        if method == '__call__':\n",
    "            N = None\n",
    "            scalars = []\n",
    "            for input in inputs:\n",
    "                # In this case we accept only scalar numbers or ResultsArray.\n",
    "                if isinstance(input, Number):\n",
    "                    scalars.append(input)\n",
    "                elif isinstance(input, self.__class__):\n",
    "                    scalars.append(input._i)\n",
    "                    if N is not None:\n",
    "                        if N != self._N:\n",
    "                            raise TypeError(\"inconsistent sizes\")\n",
    "                    else:\n",
    "                        N = self._N\n",
    "                else:\n",
    "                    return NotImplemented\n",
    "            return self.__class__(N, ufunc(*scalars, **kwargs))\n",
    "        else:\n",
    "            return NotImplemented\n",
    "    \n",
    "    def __array_function__(self, func, types, args, kwargs):\n",
    "       if func not in HANDLED_FUNCTIONS:\n",
    "           return NotImplemented\n",
    "       # Note: this allows subclasses that don't override\n",
    "       # __array_function__ to handle ResultsArray objects.\n",
    "       if not all(issubclass(t, self.__class__) for t in types):\n",
    "           return NotImplemented\n",
    "       return HANDLED_FUNCTIONS[func](*args, **kwargs)\n",
    "\n"
   ]
  },
  {
   "cell_type": "code",
   "execution_count": 48,
   "metadata": {},
   "outputs": [],
   "source": [
    "a = ResultsArray([3, 41, 37, 28, 51, 42])"
   ]
  },
  {
   "cell_type": "code",
   "execution_count": 49,
   "metadata": {},
   "outputs": [
    {
     "data": {
      "text/plain": [
       "ResultsArray(N=52, value=[50, 12, 16, 25, 2, 11])"
      ]
     },
     "execution_count": 49,
     "metadata": {},
     "output_type": "execute_result"
    }
   ],
   "source": [
    "a"
   ]
  },
  {
   "cell_type": "code",
   "execution_count": 50,
   "metadata": {},
   "outputs": [],
   "source": [
    "fa = float(a)"
   ]
  },
  {
   "cell_type": "code",
   "execution_count": 51,
   "metadata": {},
   "outputs": [
    {
     "data": {
      "text/plain": [
       "0.12736391642737055"
      ]
     },
     "execution_count": 51,
     "metadata": {},
     "output_type": "execute_result"
    }
   ],
   "source": [
    "fa"
   ]
  },
  {
   "cell_type": "code",
   "execution_count": 52,
   "metadata": {},
   "outputs": [
    {
     "data": {
      "text/plain": [
       "'[3, 41, 37, 28, 51, 42]'"
      ]
     },
     "execution_count": 52,
     "metadata": {},
     "output_type": "execute_result"
    }
   ],
   "source": [
    "str(a)"
   ]
  },
  {
   "cell_type": "code",
   "execution_count": 53,
   "metadata": {},
   "outputs": [
    {
     "data": {
      "text/plain": [
       "'[51, 42, 41, 37, 28, 3]'"
      ]
     },
     "execution_count": 53,
     "metadata": {},
     "output_type": "execute_result"
    }
   ],
   "source": [
    "s = ResultsArray.from_float(fa)\n",
    "str(s)"
   ]
  },
  {
   "cell_type": "code",
   "execution_count": 54,
   "metadata": {},
   "outputs": [
    {
     "ename": "NameError",
     "evalue": "name 'Number' is not defined",
     "output_type": "error",
     "traceback": [
      "\u001b[0;31m---------------------------------------------------------------------------\u001b[0m",
      "\u001b[0;31mNameError\u001b[0m                                 Traceback (most recent call last)",
      "\u001b[0;32m<ipython-input-54-27b92fd63064>\u001b[0m in \u001b[0;36m<module>\u001b[0;34m\u001b[0m\n\u001b[1;32m      1\u001b[0m \u001b[0mv\u001b[0m \u001b[0;34m=\u001b[0m \u001b[0mResultsArray\u001b[0m\u001b[0;34m(\u001b[0m\u001b[0;34m[\u001b[0m\u001b[0;36m5\u001b[0m\u001b[0;34m,\u001b[0m \u001b[0;36m40\u001b[0m\u001b[0;34m,\u001b[0m \u001b[0;36m15\u001b[0m\u001b[0;34m,\u001b[0m \u001b[0;36m10\u001b[0m\u001b[0;34m,\u001b[0m \u001b[0;36m51\u001b[0m\u001b[0;34m,\u001b[0m \u001b[0;36m42\u001b[0m\u001b[0;34m]\u001b[0m\u001b[0;34m)\u001b[0m\u001b[0;34m\u001b[0m\u001b[0;34m\u001b[0m\u001b[0m\n\u001b[0;32m----> 2\u001b[0;31m \u001b[0mdif\u001b[0m \u001b[0;34m=\u001b[0m \u001b[0mv\u001b[0m \u001b[0;34m-\u001b[0m \u001b[0ma\u001b[0m\u001b[0;34m\u001b[0m\u001b[0;34m\u001b[0m\u001b[0m\n\u001b[0m\u001b[1;32m      3\u001b[0m \u001b[0mdif\u001b[0m\u001b[0;34m\u001b[0m\u001b[0;34m\u001b[0m\u001b[0m\n",
      "\u001b[0;32m~/.virtualenvs/drawkaos/lib/python3.6/site-packages/numpy/lib/mixins.py\u001b[0m in \u001b[0;36mfunc\u001b[0;34m(self, other)\u001b[0m\n\u001b[1;32m     23\u001b[0m         \u001b[0;32mif\u001b[0m \u001b[0m_disables_array_ufunc\u001b[0m\u001b[0;34m(\u001b[0m\u001b[0mother\u001b[0m\u001b[0;34m)\u001b[0m\u001b[0;34m:\u001b[0m\u001b[0;34m\u001b[0m\u001b[0;34m\u001b[0m\u001b[0m\n\u001b[1;32m     24\u001b[0m             \u001b[0;32mreturn\u001b[0m \u001b[0mNotImplemented\u001b[0m\u001b[0;34m\u001b[0m\u001b[0;34m\u001b[0m\u001b[0m\n\u001b[0;32m---> 25\u001b[0;31m         \u001b[0;32mreturn\u001b[0m \u001b[0mufunc\u001b[0m\u001b[0;34m(\u001b[0m\u001b[0mself\u001b[0m\u001b[0;34m,\u001b[0m \u001b[0mother\u001b[0m\u001b[0;34m)\u001b[0m\u001b[0;34m\u001b[0m\u001b[0;34m\u001b[0m\u001b[0m\n\u001b[0m\u001b[1;32m     26\u001b[0m     \u001b[0mfunc\u001b[0m\u001b[0;34m.\u001b[0m\u001b[0m__name__\u001b[0m \u001b[0;34m=\u001b[0m \u001b[0;34m'__{}__'\u001b[0m\u001b[0;34m.\u001b[0m\u001b[0mformat\u001b[0m\u001b[0;34m(\u001b[0m\u001b[0mname\u001b[0m\u001b[0;34m)\u001b[0m\u001b[0;34m\u001b[0m\u001b[0;34m\u001b[0m\u001b[0m\n\u001b[1;32m     27\u001b[0m     \u001b[0;32mreturn\u001b[0m \u001b[0mfunc\u001b[0m\u001b[0;34m\u001b[0m\u001b[0;34m\u001b[0m\u001b[0m\n",
      "\u001b[0;32m<ipython-input-47-d23a01bdad82>\u001b[0m in \u001b[0;36m__array_ufunc__\u001b[0;34m(self, ufunc, method, *inputs, **kwargs)\u001b[0m\n\u001b[1;32m     55\u001b[0m             \u001b[0;32mfor\u001b[0m \u001b[0minput\u001b[0m \u001b[0;32min\u001b[0m \u001b[0minputs\u001b[0m\u001b[0;34m:\u001b[0m\u001b[0;34m\u001b[0m\u001b[0;34m\u001b[0m\u001b[0m\n\u001b[1;32m     56\u001b[0m                 \u001b[0;31m# In this case we accept only scalar numbers or ResultsArray.\u001b[0m\u001b[0;34m\u001b[0m\u001b[0;34m\u001b[0m\u001b[0;34m\u001b[0m\u001b[0m\n\u001b[0;32m---> 57\u001b[0;31m                 \u001b[0;32mif\u001b[0m \u001b[0misinstance\u001b[0m\u001b[0;34m(\u001b[0m\u001b[0minput\u001b[0m\u001b[0;34m,\u001b[0m \u001b[0mNumber\u001b[0m\u001b[0;34m)\u001b[0m\u001b[0;34m:\u001b[0m\u001b[0;34m\u001b[0m\u001b[0;34m\u001b[0m\u001b[0m\n\u001b[0m\u001b[1;32m     58\u001b[0m                     \u001b[0mscalars\u001b[0m\u001b[0;34m.\u001b[0m\u001b[0mappend\u001b[0m\u001b[0;34m(\u001b[0m\u001b[0minput\u001b[0m\u001b[0;34m)\u001b[0m\u001b[0;34m\u001b[0m\u001b[0;34m\u001b[0m\u001b[0m\n\u001b[1;32m     59\u001b[0m                 \u001b[0;32melif\u001b[0m \u001b[0misinstance\u001b[0m\u001b[0;34m(\u001b[0m\u001b[0minput\u001b[0m\u001b[0;34m,\u001b[0m \u001b[0mself\u001b[0m\u001b[0;34m.\u001b[0m\u001b[0m__class__\u001b[0m\u001b[0;34m)\u001b[0m\u001b[0;34m:\u001b[0m\u001b[0;34m\u001b[0m\u001b[0;34m\u001b[0m\u001b[0m\n",
      "\u001b[0;31mNameError\u001b[0m: name 'Number' is not defined"
     ]
    }
   ],
   "source": [
    "v = ResultsArray([5, 40, 15, 10, 51, 42])\n",
    "dif = v - a\n",
    "dif"
   ]
  },
  {
   "cell_type": "code",
   "execution_count": null,
   "metadata": {},
   "outputs": [],
   "source": []
  }
 ],
 "metadata": {
  "kernelspec": {
   "display_name": "Python 3.6.9 64-bit ('drawkaos': virtualenv)",
   "language": "python",
   "name": "python36964bitdrawkaosvirtualenv660495ce4f37423a968cb8e684512fb1"
  },
  "language_info": {
   "codemirror_mode": {
    "name": "ipython",
    "version": 3
   },
   "file_extension": ".py",
   "mimetype": "text/x-python",
   "name": "python",
   "nbconvert_exporter": "python",
   "pygments_lexer": "ipython3",
   "version": "3.6.9"
  }
 },
 "nbformat": 4,
 "nbformat_minor": 4
}
